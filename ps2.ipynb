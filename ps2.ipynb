{
  "nbformat": 4,
  "nbformat_minor": 0,
  "metadata": {
    "colab": {
      "provenance": []
    },
    "kernelspec": {
      "name": "python3",
      "display_name": "Python 3"
    },
    "language_info": {
      "name": "python"
    }
  },
  "cells": [
    {
      "cell_type": "code",
      "execution_count": null,
      "metadata": {
        "colab": {
          "base_uri": "https://localhost:8080/"
        },
        "id": "FAscRSTce1x6",
        "outputId": "30e7534f-d6e4-4058-d6be-db47d0e25421"
      },
      "outputs": [
        {
          "output_type": "stream",
          "name": "stdout",
          "text": [
            "Enter a string: nandana\n",
            "n : 3\n",
            "a : 3\n",
            "d : 1\n"
          ]
        }
      ],
      "source": [
        "string = input(\"Enter a string\")\n",
        "char_count = {}\n",
        "for char in string:\n",
        "    if char in char_count:\n",
        "        char_count[char] += 1\n",
        "    else:\n",
        "        char_count[char] = 1\n",
        "for char, count in char_count.items():\n",
        "    print(char,':',count)"
      ]
    },
    {
      "cell_type": "code",
      "source": [],
      "metadata": {
        "id": "fIvs4hz-aJan"
      },
      "execution_count": null,
      "outputs": []
    },
    {
      "cell_type": "code",
      "source": [
        "def max_3(a, b, c):\n",
        "    if  a >= b and a >= c:\n",
        "        return a\n",
        "    elif b >= a and b >= c:\n",
        "        return b\n",
        "    else:\n",
        "        return c\n",
        "n1 = input(\"enter the number\")\n",
        "n2 = input(\"enter the number\")\n",
        "n3 = input(\"enter the number\")\n",
        "print(\"max number is\",max_3(n1,n2,n3))"
      ],
      "metadata": {
        "colab": {
          "base_uri": "https://localhost:8080/"
        },
        "id": "gW-g89GboN_Y",
        "outputId": "9dda7e58-68b6-4a32-bdfe-7c98cdc08608"
      },
      "execution_count": null,
      "outputs": [
        {
          "output_type": "stream",
          "name": "stdout",
          "text": [
            "enter the number3\n",
            "enter the number4\n",
            "enter the number1\n",
            "max number is 4\n"
          ]
        }
      ]
    },
    {
      "cell_type": "code",
      "source": [
        "def exponent(base, exp):\n",
        "    expo = 1\n",
        "    for i in range(exp):\n",
        "        expo *= base\n",
        "    return expo\n",
        "\n",
        "base = int(input('Enter base number'))\n",
        "exp = int(input('Enter exponent number'))\n",
        "\n",
        "result = exponent(base, exp)\n",
        "\n",
        "print(result)"
      ],
      "metadata": {
        "colab": {
          "base_uri": "https://localhost:8080/"
        },
        "id": "GVEn31EBwwCJ",
        "outputId": "527781a5-945c-4c6b-9b98-8110f4780878"
      },
      "execution_count": null,
      "outputs": [
        {
          "output_type": "stream",
          "name": "stdout",
          "text": [
            "Enter base number2\n",
            "Enter exponent number3\n",
            "8\n"
          ]
        }
      ]
    },
    {
      "cell_type": "code",
      "source": [
        "def sum_of_cubes(n):\n",
        "    cube_sum = 0\n",
        "    for i in range(1, n):\n",
        "        cube_sum += i**3\n",
        "    return cube_sum\n",
        "\n",
        "l = int(input('Enter the number: '))\n",
        "\n",
        "print(sum_of_cubes(l))"
      ],
      "metadata": {
        "colab": {
          "base_uri": "https://localhost:8080/"
        },
        "id": "RCqbHYcUaKbu",
        "outputId": "7fb3cc08-3380-4e22-9401-1b4721824d0e"
      },
      "execution_count": null,
      "outputs": [
        {
          "output_type": "stream",
          "name": "stdout",
          "text": [
            "Enter the number: 4\n",
            "36\n"
          ]
        }
      ]
    },
    {
      "cell_type": "code",
      "source": [
        "for i in range(1,11):\n",
        "  if i % 2 == 0 and i % 5 == 0:\n",
        "       print(\"fizzbuzz\")\n",
        "  elif i%2 ==0:\n",
        "      print(\"fizz\")\n",
        "  elif i%5 == 0:\n",
        "      print(\"buzz\")\n",
        "  else:\n",
        "      print(i)"
      ],
      "metadata": {
        "colab": {
          "base_uri": "https://localhost:8080/"
        },
        "id": "yXU11i2Qf5G8",
        "outputId": "9f56df9c-0884-4136-db04-9a949fd56542"
      },
      "execution_count": 25,
      "outputs": [
        {
          "output_type": "stream",
          "name": "stdout",
          "text": [
            "1\n",
            "fizz\n",
            "3\n",
            "fizz\n",
            "buzz\n",
            "fizz\n",
            "7\n",
            "fizz\n",
            "9\n",
            "fizzbuzz\n"
          ]
        }
      ]
    },
    {
      "cell_type": "code",
      "source": [
        "def most_frequent(numbers):\n",
        "    count = {}\n",
        "    for num in numbers:\n",
        "        if num not in count:\n",
        "            count[num] = 1\n",
        "        else:\n",
        "            count[num] += 1\n",
        "    max_count = max(count.values())\n",
        "    most_frequent_nums = [num for num, freq in count.items() if freq == max_count]\n",
        "    return most_frequent_nums\n",
        "\n",
        "numbers = [1, 2, 3, 2, 1, 3, 2, 3,3,3, 4, 4, 4, 4]\n",
        "\n",
        "most_frequent_nums = most_frequent(numbers)\n",
        "\n",
        "print(\"The most frequent number(s) in the list is/are: \",most_frequent_nums)"
      ],
      "metadata": {
        "colab": {
          "base_uri": "https://localhost:8080/"
        },
        "id": "Er2SRzErhfWO",
        "outputId": "923198d5-9bce-4562-aabb-19142e7deeb5"
      },
      "execution_count": 27,
      "outputs": [
        {
          "output_type": "stream",
          "name": "stdout",
          "text": [
            "The most frequent number(s) in the list is/are:  [3]\n"
          ]
        }
      ]
    },
    {
      "cell_type": "code",
      "source": [
        "def list_sum(numbers):\n",
        " total = 0\n",
        " for num in numbers:\n",
        "   total += num**2\n",
        " return total\n",
        "\n",
        "\n",
        "list =[1,2,3,4,5]\n",
        "sum = list_sum(list)\n",
        "print(sum)"
      ],
      "metadata": {
        "colab": {
          "base_uri": "https://localhost:8080/"
        },
        "id": "VSkzoYvBlKwg",
        "outputId": "35b27fab-d311-49fd-ccd7-f75e8ab22212"
      },
      "execution_count": 29,
      "outputs": [
        {
          "output_type": "stream",
          "name": "stdout",
          "text": [
            "55\n"
          ]
        }
      ]
    },
    {
      "cell_type": "code",
      "source": [
        "for i in range(1,16):\n",
        "  if i%2 ==0:\n",
        "    print(i,\"even\")\n",
        "  else:\n",
        "    print(i, 'odd')\n"
      ],
      "metadata": {
        "colab": {
          "base_uri": "https://localhost:8080/"
        },
        "id": "GCh1Tfs0mQf_",
        "outputId": "682e93db-2c9b-4620-8c8f-da2b3f132506"
      },
      "execution_count": 32,
      "outputs": [
        {
          "output_type": "stream",
          "name": "stdout",
          "text": [
            "1 odd\n",
            "2 even\n",
            "3 odd\n",
            "4 even\n",
            "5 odd\n",
            "6 even\n",
            "7 odd\n",
            "8 even\n",
            "9 odd\n",
            "10 even\n",
            "11 odd\n",
            "12 even\n",
            "13 odd\n",
            "14 even\n",
            "15 odd\n"
          ]
        }
      ]
    },
    {
      "cell_type": "code",
      "source": [
        "def celsius_to_fahrenheit(celsius):\n",
        "    fahrenheit = (celsius * 9/5) + 32\n",
        "    return fahrenheit\n",
        "\n",
        "def fahrenheit_to_celsius(fahrenheit):\n",
        "    celsius = (fahrenheit - 32) * 5/9\n",
        "    return celsius\n",
        ""
      ],
      "metadata": {
        "id": "TwYw_c29mwS6"
      },
      "execution_count": 33,
      "outputs": []
    },
    {
      "cell_type": "code",
      "source": [
        "celsius = 37\n",
        "fahrenheit = celsius_to_fahrenheit(celsius)\n",
        "print(celsius, \"degrees Celsius is equal to\",fahrenheit,\" degrees Fahrenheit\")"
      ],
      "metadata": {
        "colab": {
          "base_uri": "https://localhost:8080/"
        },
        "id": "ap4M6ht8oc-B",
        "outputId": "d6df8a23-10f4-4a10-af41-375c2a8eaed1"
      },
      "execution_count": 34,
      "outputs": [
        {
          "output_type": "stream",
          "name": "stdout",
          "text": [
            "37 degrees Celsius is equal to 98.6  degrees Fahrenheit\n"
          ]
        }
      ]
    },
    {
      "cell_type": "code",
      "source": [
        "fahrenheit = 98.6\n",
        "celsius = fahrenheit_to_celsius(fahrenheit)\n",
        "print(fahrenheit,\"degrees Fahrenheit is equal to\",celsius,\"degrees Celsius\")\n",
        "\n"
      ],
      "metadata": {
        "colab": {
          "base_uri": "https://localhost:8080/"
        },
        "id": "Gy8VZ0Gqoj0V",
        "outputId": "ba21c872-458e-4ab2-e9f4-37da032a8124"
      },
      "execution_count": 35,
      "outputs": [
        {
          "output_type": "stream",
          "name": "stdout",
          "text": [
            "98.6 degrees Fahrenheit is equal to 37.0 degrees Celsius\n"
          ]
        }
      ]
    },
    {
      "cell_type": "code",
      "source": [
        "def fact_num(n):\n",
        "    total = 1\n",
        "    for i in range(1, n+1):\n",
        "        total *= i\n",
        "    return total\n",
        "\n",
        "number = int(input(\"enter the number\"))\n",
        "print(\"factorial is\", fact_num(number))\n",
        ""
      ],
      "metadata": {
        "colab": {
          "base_uri": "https://localhost:8080/"
        },
        "id": "AArwV3k3ooyJ",
        "outputId": "f4bde193-6c28-44d6-bc94-4c66c2fd3b45"
      },
      "execution_count": 41,
      "outputs": [
        {
          "output_type": "stream",
          "name": "stdout",
          "text": [
            "enter the number5\n",
            "factorial is 120\n"
          ]
        }
      ]
    }
  ]
}